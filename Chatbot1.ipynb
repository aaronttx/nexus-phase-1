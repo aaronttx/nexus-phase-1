{
  "nbformat": 4,
  "nbformat_minor": 0,
  "metadata": {
    "colab": {
      "provenance": []
    },
    "kernelspec": {
      "name": "python3",
      "display_name": "Python 3"
    },
    "language_info": {
      "name": "python"
    }
  },
  "cells": [
    {
      "cell_type": "markdown",
      "source": [
        "IMPORTING LIBRARIES"
      ],
      "metadata": {
        "id": "jSVMijPgUSha"
      }
    },
    {
      "cell_type": "code",
      "source": [
        "import json\n",
        "from difflib import get_close_matches"
      ],
      "metadata": {
        "id": "Q8h-7jz_Rugb"
      },
      "execution_count": 6,
      "outputs": []
    },
    {
      "cell_type": "markdown",
      "source": [
        "HELPER FUNCTIONS FOR MANIPULATING KNOWLEDGE BASE"
      ],
      "metadata": {
        "id": "CQqyil7GVWul"
      }
    },
    {
      "cell_type": "code",
      "source": [
        "def load_kb(filepath: str) -> dict:\n",
        "    with open(filepath, 'r') as fp:\n",
        "        data: dict = json.load(fp)\n",
        "    return data\n",
        "\n",
        "def save_kb(filepath: str, data: dict):\n",
        "    with open(filepath, 'w') as fp:\n",
        "        json.dump(data, fp, indent = 2)"
      ],
      "metadata": {
        "id": "8pKGjcp2SRw1"
      },
      "execution_count": 7,
      "outputs": []
    },
    {
      "cell_type": "markdown",
      "source": [
        "INITIALIZING PATH FOR KNOWLEDGE BASE"
      ],
      "metadata": {
        "id": "PdphohqyV9Ik"
      }
    },
    {
      "cell_type": "code",
      "source": [
        "# Path to the knowledge base\n",
        "PATH = 'kb.json'\n",
        "kb = load_kb(PATH)"
      ],
      "metadata": {
        "id": "udEfpMVVV8NV"
      },
      "execution_count": 8,
      "outputs": []
    },
    {
      "cell_type": "markdown",
      "source": [
        "FUNCTIONS FOR SEARCHING IN KB"
      ],
      "metadata": {
        "id": "SIdJj69UUpUP"
      }
    },
    {
      "cell_type": "code",
      "source": [
        "def find_best_match(userqn: str, questions: list[str]):\n",
        "    matches: list = get_close_matches(userqn, questions, n=1, cutoff=0.6)\n",
        "    return matches[0] if matches else None\n",
        "\n",
        "def get_answer(question: str, knowledge_base: dict):\n",
        "    for q in knowledge_base[\"questions\"]:\n",
        "        if q[\"question\"] == question:\n",
        "            return q[\"answer\"]\n",
        "    return None"
      ],
      "metadata": {
        "id": "ZkvgboRxUpn_"
      },
      "execution_count": 9,
      "outputs": []
    },
    {
      "cell_type": "markdown",
      "source": [
        "MAIN CHATBOT LOOP"
      ],
      "metadata": {
        "id": "gBG6aa9xWFtm"
      }
    },
    {
      "cell_type": "code",
      "source": [
        "def chatbot():\n",
        "    kb: dict = load_kb(PATH)\n",
        "    print('Bot: Hello! I am a basic AI Chatbot!')\n",
        "    while True:\n",
        "        user_input: str = input('You: ')\n",
        "        if user_input.lower() == 'quit':\n",
        "            print('Bot: Goodbye!')\n",
        "            break\n",
        "        bestmatch: str|None = find_best_match(user_input, [q[\"question\"] for q in kb[\"questions\"]])\n",
        "\n",
        "        if bestmatch:\n",
        "            answer: str = get_answer(bestmatch, kb)\n",
        "            print(f'Bot: {answer}')\n",
        "        else:\n",
        "            print('Bot: I don\\'t know the answer. Can you teach me?')\n",
        "            new_answer: str = input('Type the answer or \"skip\" to skip: ')\n",
        "            if new_answer.lower() != 'skip':\n",
        "                kb[\"questions\"] .append({\"question\": user_input, \"answer\": new_answer})\n",
        "                save_kb(str(PATH), kb)\n",
        "                print('Bot: Thank you! I learned a new response!')\n",
        "\n",
        "if __name__ == \"__main__\":\n",
        "    chatbot()"
      ],
      "metadata": {
        "colab": {
          "base_uri": "https://localhost:8080/"
        },
        "id": "AcC-084NWHSe",
        "outputId": "e6cb8456-f2c4-419f-a0c7-5e9817a6120b"
      },
      "execution_count": 10,
      "outputs": [
        {
          "output_type": "stream",
          "name": "stdout",
          "text": [
            "Bot: Hello! I am a basic AI Chatbot!\n",
            "You: Helloo\n",
            "Bot: Hello there!\n",
            "You: how are you\n",
            "Bot: I'm doing good. Thank You!\n",
            "You: capital of france?\n",
            "Bot: The capital of France is Paris.\n",
            "You: how many continents?\n",
            "Bot: There are seven continents: Africa, Antarctica, Asia, Europe, North America, Australia, and South America.\n",
            "You: whats thelargest country in the world?\n",
            "Bot: The smallest country in the world is Vatican City.\n",
            "You: quit\n",
            "Bot: Goodbye!\n"
          ]
        }
      ]
    }
  ]
}